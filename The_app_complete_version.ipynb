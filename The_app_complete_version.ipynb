{
 "cells": [
  {
   "cell_type": "code",
   "execution_count": null,
   "metadata": {},
   "outputs": [],
   "source": [
    "import warnings\n",
    "warnings.filterwarnings(\"ignore\")"
   ]
  },
  {
   "cell_type": "code",
   "execution_count": null,
   "metadata": {},
   "outputs": [],
   "source": [
    "import pandas as pd\n",
    "import ipywidgets as widgets\n",
    "from IPython.display import display\n",
    "from colorama import Fore, Back, Style\n",
    "from tqdm import tqdm_notebook as tqdm\n",
    "from ipywidgets import Button, Layout\n",
    "from IPython.display import HTML\n",
    "import base64\n",
    "output = widgets.Output()\n",
    "newseq = []\n",
    "newnewseq = []\n",
    "pd.set_option('display.max_colwidth', 0)"
   ]
  },
  {
   "cell_type": "code",
   "execution_count": null,
   "metadata": {},
   "outputs": [],
   "source": [
    "%%html\n",
    "<h1><u><span style=\"color:purple\">  THE PROTEIN TRUNCATOR TOOL </span></h1> </u>"
   ]
  },
  {
   "cell_type": "code",
   "execution_count": 13,
   "metadata": {},
   "outputs": [
    {
     "data": {
      "text/html": [
       "<ul>\n",
       "<li><b> <span style=\"color:purple\"> PLEASE INPUT ONE SEQUENCE e.g GLNDIFEAQKIEWHE</b> </span> </li>\n",
       "<li><b> <span style=\"color:purple\"> THE TOOL IS NOT SENSITIVE TO CAPITALIZATION. YOU CAN INPUT AHGKL or ahgkl. TOOL WILL UNDERSTAND.   </b> </span> </li>\n",
       "<li><b> <span style=\"color:purple\"> THE TOOL ONLY UNDERSTANDS ONE LETTER AMINO ACID CODE </b> </span> </li>\n",
       "<li><b> <span style=\"color:purple\"> ALL SPACES BETWEEN THE AMINO ACIDS WILL BE REMOVED </b> </span> </li>\n",
       "<li><b> <span style=\"color:purple\"> THE TOOL WILL TELL YOU IF IT DETECTS ANY NON-AMINO ACID SYMBOL. </b> </span> </li>\n",
       "<li><b> <span style=\"color:purple\"> PLEASE INPUT MASS IN DALTONS e.g enter 236000 if MASS of YOUR PEAK is 236 kDA </b> </span> </li>\n",
       "<li><b> <span style=\"color:purple\"> ALL NON-AMINO ACID SYMBOLS ARE AUTOMATICALLY REMOVED. e.g HGJK becomes HGK </b> </span> </li>\n",
       "</ul>\n"
      ],
      "text/plain": [
       "<IPython.core.display.HTML object>"
      ]
     },
     "metadata": {},
     "output_type": "display_data"
    }
   ],
   "source": [
    "%%html\n",
    "<ul>\n",
    "<li><b> <span style=\"color:purple\"> PLEASE INPUT ONE SEQUENCE e.g GLNDIFEAQKIEWHE</b> </span> </li>\n",
    "<li><b> <span style=\"color:purple\"> THE TOOL IS NOT SENSITIVE TO CAPITALIZATION. YOU CAN INPUT AHGKL or ahgkl. TOOL WILL UNDERSTAND.   </b> </span> </li>\n",
    "<li><b> <span style=\"color:purple\"> THE TOOL ONLY UNDERSTANDS ONE LETTER AMINO ACID CODE </b> </span> </li>\n",
    "<li><b> <span style=\"color:purple\"> ALL SPACES BETWEEN THE AMINO ACIDS WILL BE REMOVED </b> </span> </li>\n",
    "<li><b> <span style=\"color:purple\"> THE TOOL WILL TELL YOU IF IT DETECTS ANY NON-AMINO ACID SYMBOL. </b> </span> </li>\n",
    "<li><b> <span style=\"color:purple\"> PLEASE INPUT MASS IN DALTONS e.g ENTER 236000 if MASS of YOUR PEAK is 236 kDA </b> </span> </li>\n",
    "<li><b> <span style=\"color:purple\"> ALL NON-AMINO ACID SYMBOLS ARE AUTOMATICALLY REMOVED. e.g HGJK becomes HGK </b> </span> </li>\n",
    "</ul>"
   ]
  },
  {
   "cell_type": "code",
   "execution_count": 14,
   "metadata": {},
   "outputs": [
    {
     "data": {
      "text/html": [
       "<span style=\"color:purple\"><b> WHAT WILL BE THE OUTPUT? </b> </span>\n",
       "<ul>\n",
       "<li><span style=\"color:purple\"><b> The table of the first 50 fragments that have the mass closest to the peak mass </b> </span></li>\n",
       "<li><span style=\"color:purple\"><b> If there are less than 50 fragments in total all fragments will be shown</b> </span></li>\n",
       "<li><span style=\"color:purple\"><b> The link to download all fragments within the range that you specified </b> </span></li>\n"
      ],
      "text/plain": [
       "<IPython.core.display.HTML object>"
      ]
     },
     "metadata": {},
     "output_type": "display_data"
    }
   ],
   "source": [
    "%%html\n",
    "<span style=\"color:purple\"><b> WHAT WILL BE THE OUTPUT? </b> </span>\n",
    "<ul>\n",
    "<li><span style=\"color:purple\"><b> The table of the first 50 fragments that have the mass closest to the peak mass </b> </span></li>\n",
    "<li><span style=\"color:purple\"><b> If there are less than 50 fragments in total all fragments will be shown</b> </span></li>\n",
    "<li><span style=\"color:purple\"><b> The link to download all fragments within the range that you specified </b> </span></li>"
   ]
  },
  {
   "cell_type": "code",
   "execution_count": null,
   "metadata": {},
   "outputs": [],
   "source": [
    "molecular_weight = {\n",
    "    'A': 71.0788,\n",
    "    'E': 129.1155,\n",
    "    'R': 156.1875,\n",
    "    'N': 114.1038,\n",
    "    'D': 115.0886,\n",
    "    'C': 103.1388, \n",
    "    'Q': 128.1307, \n",
    "    'G': 57.0519,\n",
    "    'H': 137.1411,\n",
    "    'I': 113.1594,\n",
    "    'L': 113.1594,\n",
    "    'M': 131.1926,\n",
    "    'F': 147.1766,\n",
    "    'P': 97.1167,\n",
    "    'S': 87.0782,\n",
    "    'T': 101.1051,\n",
    "    'W': 186.2132,\n",
    "    'Y': 163.1760,\n",
    "    'V': 99.1326,\n",
    "    'K': 128.1741, \n",
    "}\n",
    "allowed_aa_list = [\"A\", \"R\", \"N\", \"D\", \"C\", \"Q\", \"E\", \"G\",\"H\", \"I\", \"L\", \"K\", \"M\", \"F\", \"P\", \"S\", \"T\", \"W\", \"Y\", \"V\"]"
   ]
  },
  {
   "cell_type": "code",
   "execution_count": null,
   "metadata": {},
   "outputs": [],
   "source": [
    "@output.capture(clear_output=True,wait=True) # based on https://github.com/jupyter-widgets/ipywidgets/issues/1846 and https://ipywidgets.readthedocs.io/en/latest/examples/Output%20Widget.html\n",
    "def savesequence(b):\n",
    "    p=0\n",
    "    weight = 18.01524\n",
    "    filename = 'results.xlsx'\n",
    "    # weight = 18.01524\n",
    "    title = \"Click here to download\"\n",
    "    name = str(nam.value)\n",
    "    sequences = str(sequen.value)\n",
    "    Peak = float(your_peak.value)\n",
    "    #prop = int(y.value)\n",
    "    prop = y.value\n",
    "    cutofv = int(Peak/186.2132)\n",
    "    maxim = int(Peak/57.0519)\n",
    "    if Peak < 57.0519:\n",
    "        print(\"✵✵✵✵✵✵✵✵✵✵✵✵✵✵✵ WARNING ✵✵✵✵✵✵✵✵✵✵✵✵✵✵✵✵✵✵✵✵✵✵✵\")\n",
    "        print(\"The mass of your peak is less than that of single Glycine (G) aminoacid\")\n",
    "        print(\"Minimum mass of the peak that you can enter is 57.0519 Da\")\n",
    "        print(\"✵✵✵✵✵✵✵✵✵✵✵✵✵✵✵✵✵✵✵✵✵✵✵✵✵✵✵✵✵✵✵✵✵✵✵✵✵✵✵✵✵✵✵✵\")\n",
    "    sequences = sequences.upper()\n",
    "    sequences = list(sequences.split(\";\"))\n",
    "    for sequence in sequences:\n",
    "        x = sequence.replace(' ', '')\n",
    "        newseq.append(x)\n",
    "\n",
    "    for sequence in newseq:\n",
    "        if sequence == '':\n",
    "            newseq.remove('')\n",
    "    for sequence in newseq:\n",
    "        p+=1\n",
    "        for aa in sequence:\n",
    "            if aa not in allowed_aa_list:\n",
    "                print(f\"in the sequence {p} we found non-amino acid symbol: {aa}\")\n",
    "                print(\"we removed it\")\n",
    "                sequence = sequence.replace(aa, \"\")\n",
    "        newnewseq.append(sequence)\n",
    "    #print(newnewseq)\n",
    "    results = [['positions','MW_Da','Target name', 'Result sequence']]\n",
    "\n",
    "# So that we can have more than one sequence\n",
    "\n",
    "    for sequence in newnewseq:\n",
    "        for aa_position in tqdm(range(0, len(sequence)+1)):\n",
    "            for i in range(aa_position, len(sequence)+1):\n",
    "                #positions = (aa_position+1, i)\n",
    "                position1 = aa_position+1\n",
    "                position2 = i\n",
    "                fragment = sequence[aa_position:i]\n",
    "                \n",
    "                if len(fragment) >= cutofv and len(fragment) <= maxim:\n",
    "                    weight = 18.01524\n",
    "                    fragment_start = fragment[0]\n",
    "                    fragment_end = fragment[-1]\n",
    "                    pos_sum = f\"{fragment_start}{position1} - {fragment_end}{position2}\"\n",
    "                    for aa in fragment:\n",
    "                        weight += molecular_weight[aa]\n",
    "                        \n",
    "                #print(fragment, weight)\n",
    "                \n",
    "                # Saving the results\n",
    "                    results.append([pos_sum, weight,name, fragment])\n",
    "    final = pd.DataFrame(results).T.set_index(0).T\n",
    "    final.insert(2, \"Difference from peak\", Peak-final['MW_Da'])\n",
    "    final.insert(3,\"Difference from peak module\", abs(Peak-final['MW_Da']))\n",
    "    final_sorted = final.sort_values('Difference from peak module', ascending = True)\n",
    "    very_final_sorted = final_sorted[final_sorted['Difference from peak module'] <= prop]\n",
    "    very_final_sorted1 = very_final_sorted.reset_index(drop=True)\n",
    "    # putting the results into the dataframe\n",
    "    very_final_sorted1.to_excel('results.xlsx')\n",
    "    print(\"FIRST 50 '(OR LESS)' FRAGMENTS\")\n",
    "    display(very_final_sorted1.head(50))\n",
    "    \n",
    "   # def create_download_link(filename, title = \"Click here to download: \"):  \n",
    "    data = open(filename, \"rb\").read()\n",
    "    b64 = base64.b64encode(data)\n",
    "    payload = b64.decode()\n",
    "    \n",
    "    html = '<a download=\"results.xlsx\" href=\"data:text/xlsx;base64,{payload}\" target=\"_blank\">{title}</a>'\n",
    "    html = html.format(payload=payload,title=title+f' {filename}',filename=filename)\n",
    "    display(HTML(html))\n",
    "print(\"Input your sequence in the window below\")\n",
    "sequen = widgets.Text(placeholder='Input your sequence please')\n",
    "display(sequen)\n",
    "print(\"Input mass of your peak\")\n",
    "your_peak = widgets.Text(placeholder='Input the mass of your observed fragment')\n",
    "display(your_peak)\n",
    "print(\"Input the name of your target\")\n",
    "nam = widgets.Text(placeholder = 'Input the name of the target')\n",
    "display(nam)\n",
    "print(\"Set your maximum difference from peak in daltons (Da)... Default is 10 Da\")\n",
    "print(\"Maximum is 1000 Da (1kDa). Type or use slider\")\n",
    "dif = widgets.FloatText()\n",
    "y = widgets.FloatSlider(value = 10, min=0.5, max=1000, step=0.5,description='Difference', disabled=False, continuous_update=False,\n",
    "    orientation='horizontal',\n",
    "    readout=True,\n",
    "    readout_format='.1f'\n",
    ")\n",
    "display(dif, y)\n",
    "mylink = widgets.jslink((y, 'value'), (dif, 'value'))\n",
    "run_button = widgets.Button(\n",
    "      description = 'Submit your sequence',layout=Layout(width='18%', height='45px', border='5px solid purple')\n",
    ")\n",
    "\n",
    "run_button.on_click(savesequence)\n",
    "display(run_button)\n",
    "output"
   ]
  },
  {
   "cell_type": "code",
   "execution_count": 7,
   "metadata": {},
   "outputs": [
    {
     "data": {
      "text/html": [
       "<span style =\"color:purple\"> To start from scratch refresh the window or use the <b> RESET BUTTON  ➔  </b></span>\n",
       "<button onClick=\"window.location.reload();\">Reset</button>\n"
      ],
      "text/plain": [
       "<IPython.core.display.HTML object>"
      ]
     },
     "metadata": {},
     "output_type": "display_data"
    }
   ],
   "source": [
    "%%html \n",
    "<span style =\"color:purple\"> To start from scratch refresh the window or use the <b> RESET BUTTON  ➔  </b></span>\n",
    "<button onClick=\"window.location.reload();\">Reset</button>"
   ]
  }
 ],
 "metadata": {
  "kernelspec": {
   "display_name": "Python 3",
   "language": "python",
   "name": "python3"
  },
  "language_info": {
   "codemirror_mode": {
    "name": "ipython",
    "version": 3
   },
   "file_extension": ".py",
   "mimetype": "text/x-python",
   "name": "python",
   "nbconvert_exporter": "python",
   "pygments_lexer": "ipython3",
   "version": "3.8.5"
  }
 },
 "nbformat": 4,
 "nbformat_minor": 4
}
